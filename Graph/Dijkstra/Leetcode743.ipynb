{
 "cells": [
  {
   "cell_type": "markdown",
   "metadata": {},
   "source": [
    "## Dijkstra Algorithm"
   ]
  },
  {
   "cell_type": "markdown",
   "metadata": {},
   "source": [
    "### Leetcode 743"
   ]
  },
  {
   "cell_type": "markdown",
   "metadata": {},
   "source": [
    "1. also can use BFS, becasue it need all nodes' shortest path\n",
    "2. Unlike normal dlikstra algorithm, the while can be finished"
   ]
  },
  {
   "cell_type": "code",
   "execution_count": 3,
   "metadata": {},
   "outputs": [],
   "source": [
    "import heapq\n",
    "from typing import List\n",
    "\n",
    "from collections import defaultdict\n",
    "\n",
    "class Solution:\n",
    "    \"\"\"\n",
    "    Dijkstra's algorithm\n",
    "    \"\"\"\n",
    "    def networkDelayTime(self, times: List[List[int]], n: int, k: int) -> int:\n",
    "        graph = defaultdict(list)\n",
    "        for u, v, w in times:\n",
    "            graph[u -1].append((v - 1, w))\n",
    "        \n",
    "        dist = [float('inf')] * n\n",
    "        dist[k - 1] = 0\n",
    "        queue = [(0, k-1)]\n",
    "        while queue:\n",
    "            cur_dist, u = heapq.heappop(queue)\n",
    "            if cur_dist > dist[u]:\n",
    "                continue\n",
    "            for v, w in graph[u]:\n",
    "                if dist[v] > cur_dist + w:\n",
    "                    dist[v] = cur_dist + w\n",
    "                    heapq.heappush(queue, (dist[v], v))\n",
    "            \n",
    "        ans = max(dist)\n",
    "        return ans if ans < float('inf') else -1"
   ]
  },
  {
   "cell_type": "code",
   "execution_count": null,
   "metadata": {},
   "outputs": [],
   "source": [
    "from collections import defaultdict, deque\n",
    "from typing import List\n",
    "\n",
    "class Solution:\n",
    "    \"\"\"\n",
    "    BFS algorithm\n",
    "    \"\"\"\n",
    "    def networkDelayTime(self, times: List[List[int]], n: int, k: int) -> int:\n",
    "        graph = defaultdict(list)\n",
    "        for u, v, w in times:\n",
    "            graph[u - 1].append((v - 1, w))\n",
    "        \n",
    "        dist = [float('inf')] * n\n",
    "        dist[k - 1] = 0\n",
    "        queue = deque([k - 1])\n",
    "        \n",
    "        while queue:\n",
    "            u = queue.popleft()\n",
    "            for v, w in graph[u]:\n",
    "                if dist[v] > dist[u] + w:\n",
    "                    dist[v] = dist[u] + w\n",
    "                    queue.append(v)\n",
    "        \n",
    "        ans = max(dist)\n",
    "        return ans if ans < float('inf') else -1"
   ]
  }
 ],
 "metadata": {
  "kernelspec": {
   "display_name": "pytorch",
   "language": "python",
   "name": "python3"
  },
  "language_info": {
   "codemirror_mode": {
    "name": "ipython",
    "version": 3
   },
   "file_extension": ".py",
   "mimetype": "text/x-python",
   "name": "python",
   "nbconvert_exporter": "python",
   "pygments_lexer": "ipython3",
   "version": "3.11.9"
  }
 },
 "nbformat": 4,
 "nbformat_minor": 2
}
