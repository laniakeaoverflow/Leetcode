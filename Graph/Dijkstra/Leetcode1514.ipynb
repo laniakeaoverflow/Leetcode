{
 "cells": [
  {
   "cell_type": "markdown",
   "metadata": {},
   "source": [
    "## Leetcode 1514"
   ]
  },
  {
   "cell_type": "markdown",
   "metadata": {},
   "source": [
    "1. Use - to achieve max path\n",
    "2. zip method\n",
    "3. Initial the path log\n",
    "4. How the weight calculate"
   ]
  },
  {
   "cell_type": "code",
   "execution_count": null,
   "metadata": {},
   "outputs": [],
   "source": [
    "import heapq\n",
    "from collections import defaultdict\n",
    "from typing import List\n",
    "\n",
    "class Solution:\n",
    "    def maxProbability(self, n: int, edges: List[List[int]], succProb: List[float], start_node: int, end_node: int) -> float:\n",
    "        # Create the adjacency list to represent the graph\n",
    "        graph = defaultdict(list)\n",
    "        for (a, b), prob in zip(edges, succProb):\n",
    "            graph[a].append((b, prob))\n",
    "            graph[b].append((a, prob))\n",
    "\n",
    "        # Initialize the probability array with 0s, and set the start node's probability to 1\n",
    "        max_prob = [0.0] * n\n",
    "        max_prob[start_node] = 1.0\n",
    "        \n",
    "        # Max-heap to store (-probability, node)\n",
    "        queue = [(-1.0, start_node)]  # Start with probability 1 (stored as -1 for max heap)\n",
    "\n",
    "        while queue:\n",
    "            current_prob, node = heapq.heappop(queue)\n",
    "            current_prob = -current_prob  # Convert back to positive probability\n",
    "            \n",
    "            if node == end_node:\n",
    "                return current_prob\n",
    "            \n",
    "            for neighbor, prob in graph[node]:\n",
    "                new_prob = current_prob * prob\n",
    "                if new_prob > max_prob[neighbor]:\n",
    "                    max_prob[neighbor] = new_prob\n",
    "                    heapq.heappush(queue, (-new_prob, neighbor))\n",
    "\n",
    "        return 0.0  # If there's no path, return 0"
   ]
  },
  {
   "cell_type": "markdown",
   "metadata": {},
   "source": []
  }
 ],
 "metadata": {
  "kernelspec": {
   "display_name": "pytorch",
   "language": "python",
   "name": "python3"
  },
  "language_info": {
   "name": "python",
   "version": "3.11.9"
  }
 },
 "nbformat": 4,
 "nbformat_minor": 2
}
