{
 "cells": [
  {
   "cell_type": "markdown",
   "metadata": {},
   "source": [
    "## Leetcode1631"
   ]
  },
  {
   "cell_type": "code",
   "execution_count": 2,
   "metadata": {},
   "outputs": [],
   "source": [
    "import heapq\n",
    "from typing import List\n",
    "class Solution:\n",
    "    def minimumEffortPath(self, heights: List[List[int]]) -> int:\n",
    "        row_n = len(heights)\n",
    "        col_n = len(heights[0])\n",
    "        dt = [(1, 0), (-1, 0), (0, 1), (0, -1)]\n",
    "        \n",
    "        dist = [[float('inf')] * col_n for _ in range(row_n)]\n",
    "        dist[0][0] = 0\n",
    "        queue = [(0, 0, 0)]\n",
    "        while queue:\n",
    "            effort, row, col = heapq.heappop(queue)\n",
    "            if row == row_n -1 and col == col_n - 1:\n",
    "                return effort\n",
    "\n",
    "            for dx, dy in dt:\n",
    "                new_row = row + dx \n",
    "                new_col = col + dy\n",
    "                if 0 <= new_row < row_n and 0 <= new_col < col_n:\n",
    "                    new_dist = max(effort, abs(heights[new_row][new_col] - heights[row][col]))\n",
    "                    if dist[new_row][new_col] > new_dist:\n",
    "                        dist[new_row][new_col] = new_dist\n",
    "                        heapq.heappush(queue, (new_dist, new_row, new_col))\n",
    "        return -1"
   ]
  }
 ],
 "metadata": {
  "kernelspec": {
   "display_name": "pytorch",
   "language": "python",
   "name": "python3"
  },
  "language_info": {
   "codemirror_mode": {
    "name": "ipython",
    "version": 3
   },
   "file_extension": ".py",
   "mimetype": "text/x-python",
   "name": "python",
   "nbconvert_exporter": "python",
   "pygments_lexer": "ipython3",
   "version": "3.11.9"
  }
 },
 "nbformat": 4,
 "nbformat_minor": 2
}
